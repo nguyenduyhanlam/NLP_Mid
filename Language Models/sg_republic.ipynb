{
 "cells": [
  {
   "cell_type": "markdown",
   "metadata": {
    "colab_type": "text",
    "id": "yCaeoy1Bx0fQ"
   },
   "source": [
    "Chuẩn bị thư viện"
   ]
  },
  {
   "cell_type": "code",
   "execution_count": 1,
   "metadata": {
    "colab": {
     "base_uri": "https://localhost:8080/",
     "height": 85
    },
    "colab_type": "code",
    "executionInfo": {
     "elapsed": 5998,
     "status": "ok",
     "timestamp": 1593488583522,
     "user": {
      "displayName": "Nguyễn Duy Hàn Lâm",
      "photoUrl": "",
      "userId": "15262702392422763405"
     },
     "user_tz": -420
    },
    "id": "y6lPxxYCuO4J",
    "outputId": "b5b7f551-6f65-4c5b-9c9a-531a8fb33f4a"
   },
   "outputs": [
    {
     "name": "stdout",
     "output_type": "stream",
     "text": [
      "[nltk_data] Downloading package wordnet to /root/nltk_data...\n",
      "[nltk_data]   Unzipping corpora/wordnet.zip.\n",
      "[nltk_data] Downloading package brown to /root/nltk_data...\n",
      "[nltk_data]   Unzipping corpora/brown.zip.\n"
     ]
    }
   ],
   "source": [
    "import string\n",
    "import nltk\n",
    "nltk.download('wordnet')\n",
    "nltk.download('brown')\n",
    "from nltk.corpus import brown\n",
    "from gensim.models import Word2Vec\n",
    "import multiprocessing\n",
    "from nltk.stem import WordNetLemmatizer\n",
    "wordnet_lemmatizer = WordNetLemmatizer()\n",
    "from tensorflow.keras.preprocessing.text import Tokenizer\n",
    "import numpy as np\n",
    "import tensorflow as tf\n",
    "from tensorflow.keras import Sequential\n",
    "from tensorflow.keras.layers import Embedding\n",
    "from tensorflow.keras.layers import LSTM\n",
    "from tensorflow.keras.layers import Dense"
   ]
  },
  {
   "cell_type": "code",
   "execution_count": 2,
   "metadata": {
    "colab": {
     "base_uri": "https://localhost:8080/",
     "height": 72,
     "resources": {
      "http://localhost:8080/nbextensions/google.colab/files.js": {
       "data": "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",
       "headers": [
        [
         "content-type",
         "application/javascript"
        ]
       ],
       "ok": true,
       "status": 200,
       "status_text": ""
      }
     }
    },
    "colab_type": "code",
    "executionInfo": {
     "elapsed": 21592,
     "status": "ok",
     "timestamp": 1593488600956,
     "user": {
      "displayName": "Nguyễn Duy Hàn Lâm",
      "photoUrl": "",
      "userId": "15262702392422763405"
     },
     "user_tz": -420
    },
    "id": "7YZo-0Hsx9sG",
    "outputId": "8f6d127b-d4f9-401d-8396-337102b6f423"
   },
   "outputs": [
    {
     "data": {
      "text/html": [
       "\n",
       "     <input type=\"file\" id=\"files-105be15d-1dba-4ec9-a351-3a34445b5348\" name=\"files[]\" multiple disabled\n",
       "        style=\"border:none\" />\n",
       "     <output id=\"result-105be15d-1dba-4ec9-a351-3a34445b5348\">\n",
       "      Upload widget is only available when the cell has been executed in the\n",
       "      current browser session. Please rerun this cell to enable.\n",
       "      </output>\n",
       "      <script src=\"/nbextensions/google.colab/files.js\"></script> "
      ],
      "text/plain": [
       "<IPython.core.display.HTML object>"
      ]
     },
     "metadata": {
      "tags": []
     },
     "output_type": "display_data"
    },
    {
     "name": "stdout",
     "output_type": "stream",
     "text": [
      "Saving the_republic.txt to the_republic.txt\n"
     ]
    }
   ],
   "source": [
    "from google.colab import files\n",
    "uploaded = files.upload()\n",
    "import io"
   ]
  },
  {
   "cell_type": "markdown",
   "metadata": {
    "colab_type": "text",
    "id": "-cEPm_ab7rbh"
   },
   "source": [
    "**Phần 0: Dữ liệu**"
   ]
  },
  {
   "cell_type": "markdown",
   "metadata": {
    "colab_type": "text",
    "id": "tNhlJqv-yDeO"
   },
   "source": [
    "Viết hàm đọc dữ liệu"
   ]
  },
  {
   "cell_type": "code",
   "execution_count": 3,
   "metadata": {
    "colab": {},
    "colab_type": "code",
    "executionInfo": {
     "elapsed": 1028,
     "status": "ok",
     "timestamp": 1593488623891,
     "user": {
      "displayName": "Nguyễn Duy Hàn Lâm",
      "photoUrl": "",
      "userId": "15262702392422763405"
     },
     "user_tz": -420
    },
    "id": "JAeb8k89yMBF"
   },
   "outputs": [],
   "source": [
    "# load doc into memory\n",
    "def load_doc(filename):\n",
    "\t# open the file as read only\n",
    "  file = open(filename, 'r')\n",
    "  # read all text\n",
    "  text = file.read()\n",
    "  text = text.replace('--', ' ')\n",
    "  # close the file\n",
    "  file.close()\n",
    "  return text"
   ]
  },
  {
   "cell_type": "markdown",
   "metadata": {
    "colab_type": "text",
    "id": "ObQHPN9VyQ4F"
   },
   "source": [
    "Tiến hành đọc dữ liệu"
   ]
  },
  {
   "cell_type": "code",
   "execution_count": 4,
   "metadata": {
    "colab": {
     "base_uri": "https://localhost:8080/",
     "height": 102
    },
    "colab_type": "code",
    "executionInfo": {
     "elapsed": 638,
     "status": "ok",
     "timestamp": 1593488624696,
     "user": {
      "displayName": "Nguyễn Duy Hàn Lâm",
      "photoUrl": "",
      "userId": "15262702392422763405"
     },
     "user_tz": -420
    },
    "id": "9LEFNR37yUVp",
    "outputId": "fcd8effe-0008-4154-c240-72dc65f73646"
   },
   "outputs": [
    {
     "name": "stdout",
     "output_type": "stream",
     "text": [
      "BOOK I.\n",
      "\n",
      "I went down yesterday to the Piraeus with Glaucon the son of Ariston,\n",
      "that I might offer up my prayers to the goddess (Bendis, the Thracian\n",
      "Artemis.); and also because I wanted to see in what\n"
     ]
    }
   ],
   "source": [
    "# load document\n",
    "in_filename = 'the_republic.txt'\n",
    "doc = load_doc(in_filename)\n",
    "print(doc[:200])"
   ]
  },
  {
   "cell_type": "markdown",
   "metadata": {
    "colab_type": "text",
    "id": "X0PFFUc-yWQ2"
   },
   "source": [
    "Hàm lọc và chuẩn hóa dữ liệu"
   ]
  },
  {
   "cell_type": "code",
   "execution_count": 5,
   "metadata": {
    "colab": {},
    "colab_type": "code",
    "executionInfo": {
     "elapsed": 1975,
     "status": "ok",
     "timestamp": 1593488629323,
     "user": {
      "displayName": "Nguyễn Duy Hàn Lâm",
      "photoUrl": "",
      "userId": "15262702392422763405"
     },
     "user_tz": -420
    },
    "id": "lRiqaw7eycMt"
   },
   "outputs": [],
   "source": [
    "# turn a doc into clean tokens\n",
    "def clean_doc(doc):\n",
    "\t# replace '--' with a space ' '\n",
    "  doc = doc.replace('--', ' ')\n",
    "  # lower all\n",
    "  doc = doc.lower()\n",
    "  # split into tokens by white space\n",
    "  tokens = doc.split()\n",
    "  # remove punctuation from each token\n",
    "  table = str.maketrans('', '', string.punctuation)\n",
    "  tokens = [w.translate(table) for w in tokens]\n",
    "  # remove remaining tokens that are not alphabetic\n",
    "  tokens = [word for word in tokens if word.isalpha()]\n",
    "  # make lower case\n",
    "  tokens = [word.lower() for word in tokens]\n",
    "  return tokens"
   ]
  },
  {
   "cell_type": "markdown",
   "metadata": {
    "colab_type": "text",
    "id": "lmRYv68jypZ1"
   },
   "source": [
    "Tiến hành lọc và chuẩn hóa dữ liệu"
   ]
  },
  {
   "cell_type": "code",
   "execution_count": 6,
   "metadata": {
    "colab": {
     "base_uri": "https://localhost:8080/",
     "height": 88
    },
    "colab_type": "code",
    "executionInfo": {
     "elapsed": 5322,
     "status": "ok",
     "timestamp": 1593488634660,
     "user": {
      "displayName": "Nguyễn Duy Hàn Lâm",
      "photoUrl": "",
      "userId": "15262702392422763405"
     },
     "user_tz": -420
    },
    "id": "_RiXXv6s3Nvt",
    "outputId": "08c6f088-8ab5-44c6-e9d7-da35fc32c15b"
   },
   "outputs": [
    {
     "name": "stdout",
     "output_type": "stream",
     "text": [
      "['book', 'i', 'i', 'went', 'down', 'yesterday', 'to', 'the', 'piraeus', 'with', 'glaucon', 'the', 'son', 'of', 'ariston', 'that', 'i', 'might', 'offer', 'up', 'my', 'prayers', 'to', 'the', 'goddess', 'bendis', 'the', 'thracian', 'artemis', 'and', 'also', 'because', 'i', 'wanted', 'to', 'see', 'in', 'what', 'manner', 'they', 'would', 'celebrate', 'the', 'festival', 'which', 'was', 'a', 'new', 'thing', 'i', 'was', 'delighted', 'with', 'the', 'procession', 'of', 'the', 'inhabitants', 'but', 'that', 'of', 'the', 'thracians', 'was', 'equally', 'if', 'not', 'more', 'beautiful', 'when', 'we', 'had', 'finished', 'our', 'prayers', 'and', 'viewed', 'the', 'spectacle', 'we', 'turned', 'in', 'the', 'direction', 'of', 'the', 'city', 'and', 'at', 'that', 'instant', 'polemarchus', 'the', 'son', 'of', 'cephalus', 'chanced', 'to', 'catch', 'sight', 'of', 'us', 'from', 'a', 'distance', 'as', 'we', 'were', 'starting', 'on', 'our', 'way', 'home', 'and', 'told', 'his', 'servant', 'to', 'run', 'and', 'bid', 'us', 'wait', 'for', 'him', 'the', 'servant', 'took', 'hold', 'of', 'me', 'by', 'the', 'cloak', 'behind', 'and', 'said', 'polemarchus', 'desires', 'you', 'to', 'wait', 'i', 'turned', 'round', 'and', 'asked', 'him', 'where', 'his', 'master', 'was', 'there', 'he', 'is', 'said', 'the', 'youth', 'coming', 'after', 'you', 'if', 'you', 'will', 'only', 'wait', 'certainly', 'we', 'will', 'said', 'glaucon', 'and', 'in', 'a', 'few', 'minutes', 'polemarchus', 'appeared', 'and', 'with', 'him', 'adeimantus', 'glaucons', 'brother', 'niceratus', 'the', 'son', 'of', 'nicias', 'and', 'several', 'others', 'who', 'had', 'been', 'at', 'the', 'procession', 'polemarchus', 'said']\n",
      "Total Tokens: 118684\n",
      "Unique Tokens: 7409\n"
     ]
    }
   ],
   "source": [
    "# clean document\n",
    "tokens = clean_doc(doc)\n",
    "print(tokens[:200])\n",
    "print('Total Tokens: %d' % len(tokens))\n",
    "print('Unique Tokens: %d' % len(set(tokens)))"
   ]
  },
  {
   "cell_type": "code",
   "execution_count": 7,
   "metadata": {
    "colab": {},
    "colab_type": "code",
    "executionInfo": {
     "elapsed": 2371,
     "status": "ok",
     "timestamp": 1593488637056,
     "user": {
      "displayName": "Nguyễn Duy Hàn Lâm",
      "photoUrl": "",
      "userId": "15262702392422763405"
     },
     "user_tz": -420
    },
    "id": "ngTGk6Xf-3UW"
   },
   "outputs": [],
   "source": [
    "def PrepareSgData(doc):\n",
    "  result = []\n",
    "  for line in doc.split('\\n'):\n",
    "    line = line.lower()\n",
    "    # remove punctuation from each token\n",
    "    table = str.maketrans('', '', string.punctuation)\n",
    "    cleanLine = [w.translate(table) for w in line.split()]\n",
    "    if cleanLine == 0:\n",
    "      continue\n",
    "    result.append(cleanLine)\n",
    "  return result"
   ]
  },
  {
   "cell_type": "code",
   "execution_count": 8,
   "metadata": {
    "colab": {
     "base_uri": "https://localhost:8080/",
     "height": 54
    },
    "colab_type": "code",
    "executionInfo": {
     "elapsed": 2357,
     "status": "ok",
     "timestamp": 1593488637057,
     "user": {
      "displayName": "Nguyễn Duy Hàn Lâm",
      "photoUrl": "",
      "userId": "15262702392422763405"
     },
     "user_tz": -420
    },
    "id": "-wMPzdFZBYrp",
    "outputId": "c216c05a-6afe-445b-a1e5-ae3ca31a896c"
   },
   "outputs": [
    {
     "name": "stdout",
     "output_type": "stream",
     "text": [
      "[['book', 'i'], [], ['i', 'went', 'down', 'yesterday', 'to', 'the', 'piraeus', 'with', 'glaucon', 'the', 'son', 'of', 'ariston'], ['that', 'i', 'might', 'offer', 'up', 'my', 'prayers', 'to', 'the', 'goddess', 'bendis', 'the', 'thracian'], ['artemis', 'and', 'also', 'because', 'i', 'wanted', 'to', 'see', 'in', 'what', 'manner', 'they', 'would'], ['celebrate', 'the', 'festival', 'which', 'was', 'a', 'new', 'thing', 'i', 'was', 'delighted', 'with', 'the'], ['procession', 'of', 'the', 'inhabitants', 'but', 'that', 'of', 'the', 'thracians', 'was', 'equally'], ['if', 'not', 'more', 'beautiful', 'when', 'we', 'had', 'finished', 'our', 'prayers', 'and', 'viewed', 'the'], ['spectacle', 'we', 'turned', 'in', 'the', 'direction', 'of', 'the', 'city', 'and', 'at', 'that', 'instant'], ['polemarchus', 'the', 'son', 'of', 'cephalus', 'chanced', 'to', 'catch', 'sight', 'of', 'us', 'from', 'a']]\n"
     ]
    }
   ],
   "source": [
    "sg_data = PrepareSgData(doc)\n",
    "print(sg_data[:10])"
   ]
  },
  {
   "cell_type": "markdown",
   "metadata": {
    "colab_type": "text",
    "id": "Pf1h1ixb73hh"
   },
   "source": [
    "**Phần 1: Skip-gram Modeling**"
   ]
  },
  {
   "cell_type": "markdown",
   "metadata": {
    "colab_type": "text",
    "id": "UcKsvpQ3IR4n"
   },
   "source": [
    "Train skip-gram model"
   ]
  },
  {
   "cell_type": "code",
   "execution_count": 9,
   "metadata": {
    "colab": {},
    "colab_type": "code",
    "executionInfo": {
     "elapsed": 80216,
     "status": "ok",
     "timestamp": 1593488717201,
     "user": {
      "displayName": "Nguyễn Duy Hàn Lâm",
      "photoUrl": "",
      "userId": "15262702392422763405"
     },
     "user_tz": -420
    },
    "id": "6xxDUOa28piJ"
   },
   "outputs": [],
   "source": [
    "EMB_DIM = 300\n",
    "w2v = Word2Vec(sg_data, size=EMB_DIM, window=5, min_count=5, negative=15, iter=100, sg=1, workers=multiprocessing.cpu_count())"
   ]
  },
  {
   "cell_type": "markdown",
   "metadata": {
    "colab_type": "text",
    "id": "KbnhXetfIU7Z"
   },
   "source": [
    "In các từ mà skip-gram đã học được"
   ]
  },
  {
   "cell_type": "code",
   "execution_count": 10,
   "metadata": {
    "colab": {
     "base_uri": "https://localhost:8080/",
     "height": 71
    },
    "colab_type": "code",
    "executionInfo": {
     "elapsed": 79409,
     "status": "ok",
     "timestamp": 1593488717202,
     "user": {
      "displayName": "Nguyễn Duy Hàn Lâm",
      "photoUrl": "",
      "userId": "15262702392422763405"
     },
     "user_tz": -420
    },
    "id": "8CroaIIoH5-l",
    "outputId": "ad10cc51-c7ff-4d78-b4fc-95e8231d5ebf"
   },
   "outputs": [
    {
     "name": "stdout",
     "output_type": "stream",
     "text": [
      "['book', 'i', 'went', 'down', 'to', 'the', 'with', 'glaucon', 'son', 'of', 'that', 'might', 'offer', 'up', 'my', 'and', 'also', 'because', 'wanted', 'see', 'in', 'what', 'manner', 'they', 'would', 'festival', 'which', 'was', 'a', 'new', 'thing', 'delighted', 'inhabitants', 'but', 'equally', 'if', 'not', 'more', 'beautiful', 'when', 'we', 'had', 'finished', 'our', 'turned', 'direction', 'city', 'at', 'polemarchus', 'cephalus', 'sight', 'us', 'from', 'distance', 'as', 'were', 'on', 'way', 'home', 'told', 'his', 'servant', 'run', 'wait', 'for', 'him', 'took', 'hold', 'me', 'by', 'behind', 'said', 'desires', 'you', 'round', 'asked', 'where', 'master', 'there', 'he', 'is', 'youth', 'coming', 'after', 'will', 'only', 'certainly', 'few', 'appeared', 'adeimantus', 'brother', 'several', 'others', 'who', 'been', 'perceive', 'socrates', 'your', 'are', 'already', 'far', 'wrong', 'do', 'how', 'many', 'course', 'stronger', 'than', 'all', 'these', 'have', 'remain', 'may', 'be', 'persuade', 'let', 'go', 'can', 'refuse', 'listen', 'replied', 'then', 'going', 'added', 'has', 'no', 'one', 'honour', 'take', 'place', 'horses', 'carry', 'pass', 'them', 'another', 'race', 'yes', 'so', 'night', 'ought', 'soon', 'this', 'young', 'men', 'good', 'talk', 'stay', 'suppose', 'since', 'insist', 'must', 'very', 'accordingly', 'house', 'found', 'brothers', 'thrasymachus', 'too', 'father', 'whom', 'seen', 'long', 'time', 'thought', 'much', 'aged', 'head', 'court', 'some', 'other', 'upon', 'dont', 'come', 'often', 'still', 'able', 'ask', 'age', 'hardly', 'get', 'therefore', 'should', 'tell', 'pleasures', 'body', 'away', 'greater', 'pleasure', 'charm', 'deny', 'request', 'make', 'keep', 'company', 'old', 'friends', 'quite', 'nothing', 'part', 'like', 'better', 'regard', 'gone', 'journey', 'enquire', 'whether', 'easy', 'or', 'difficult', 'question', 'arrived', 'poets', 'call', 'life', 'towards', 'end', 'report', 'give', 'it', 'own', 'feeling', 'flock', 'together', 'proverb', 'says', 'tale', 'commonly', 'cannot', 'eat', 'drink', 'love', 'once', 'now', 'longer', 'put', 'relations', 'evils', 'their', 'cause', 'seem', 'blame', 'really', 'fault', 'being', 'every', 'man', 'felt', 'experience', 'nor', 'known', 'well', 'remember', 'poet', 'answer', 'does', 'peace', 'most', 'escaped', 'speak', 'feel', 'mad', 'words', 'occurred', 'mind', 'great', 'sense', 'freedom', 'passions', 'truth', 'about', 'attributed', 'same', 'characters', 'tempers', 'happy', 'nature', 'an', 'opposite', 'wanting', 'draw', 'out', 'rather', 'suspect', 'people', 'general', 'convinced', 'thus', 'think', 'rich', 'wealth', 'right', 'something', 'say', 'however', 'imagine', 'answered', 'saying', 'famous', 'country', 'yours', 'neither', 'those', 'reply', 'made', 'poor', 'light', 'bad', 'ever', 'himself', 'fortune', 'acquired', 'want', 'know', 'art', 'making', 'money', 'between', 'whose', 'name', 'bear', 'value', 'possess', 'property', 'below', 'present', 'shall', 'satisfied', 'leave', 'sons', 'less', 'little', 'received', 'why', 'second', 'creation', 'authors', 'parents', 'children', 'besides', 'natural', 'sake', 'use', 'profit', 'common', 'hence', 'praises', 'true', 'consider', 'greatest', 'could', 'expect', 'easily', 'convince', 'thinks', 'near', 'death', 'enter', 'into', 'never', 'before', 'tales', 'world', 'punishment', 'deeds', 'done', 'here', 'laughing', 'matter', 'either', 'weakness', 'drawing', 'clearer', 'view', 'things', 'begins', 'reflect', 'finds', 'sum', 'child', 'sleep', 'fear', 'filled', 'dark', 'sweet', 'hope', 'kind', 'nurse', 'soul', 'lives', 'justice', 'riches', 'occasion', 'deceive', 'any', 'due', 'gods', 'debts', 'owes', 'possession', 'greatly', 'setting', 'against', 'advantages', 'opinion', 'concerning', 'pay', 'even', 'friend', 'arms', 'asks', 'back', 'doing', 'always', 'condition', 'speaking', 'correct', 'definition', 'simonides', 'look', 'sacrifices', 'hand', 'over', 'argument', 'sure', 'o', 'did', 'according', 'truly', 'debt', 'just', 'appears', 'doubt', 'word', 'such', 'wise', 'meaning', 'though', 'probably', 'clear', 'reverse', 'mean', 'return', 'deposit', 'anything', 'else', 'senses', 'yet', 'denied', 'person', 'am', 'means', 'include', 'case', 'evil', 'gold', 'injury', 'two', 'enemies', 'receive', 'enemy', 'proper', 'spoken', 'meant', 'giving', 'each', 'termed', 'heaven', 'given', 'medicine', 'surely', 'gives', 'human', 'bodies', 'food', 'preceding', 'instances', 'best', 'physician', 'amid', 'sea', 'pilot', 'sort', 'actions', 'result', 'harm', 'war', 'dear', 'need', 'thinking', 'acquisition', 'shoes', 'similar', 'power', 'contracts', 'exactly', 'skilful', 'useful', 'partner', 'game', 'laying', 'builder', 'horse', 'knowing', 'buy', 'ship', 'silver', 'kept', 'safely', 'allowed', 'lie', 'precisely', 'useless', 'inference', 'individual', 'state', 'clearly', 'soldier', 'musician', 'further', 'point', 'strike', 'fighting', 'off', 'disease', 'guard', 'camp', 'keeping', 'implied', 'homer', 'excellent', 'above', 'theft', 'agreed', 'practised', 'stand', 'latter', 'seeming', 'expected', 'hate', 'persons', 'err', 'injustice', 'nay', 'unjust', 'consequence', 'ignorant', 'benefit', 'affirmed', 'error', 'fallen', 'assumed', 'seems', 'argue', 'instead', 'simply', 'first', 'undoubtedly', 'both', 'wicked', 'injured', 'qualities', 'dogs', 'virtue', 'necessity', 'impossible', 'generally', 'assuredly', 'heat', 'produce', 'cold', 'act', 'shown', 'agree', 'ready', 'battle', 'side', 'believe', 'mighty', 'times', 'discussion', 'attempt', 'hands', 'rest', 'hear', 'came', 'wild', 'beast', 'seeking', 'whole', 'folly', 'taken', 'under', 'seek', 'yourself', 'opponent', 'duty', 'advantage', 'gain', 'interest', 'nonsense', 'clearness', 'without', 'indeed', 'fixed', 'eye', 'saw', 'looked', 'hard', 'guilty', 'mistake', 'piece', 'chance', 'finding', 'pieces', 'utmost', 'willing', 'fact', 'pity', 'angry', 'laugh', 'style', 'whatever', 'try', 'order', 'avoid', 'answering', 'philosopher', 'numbers', 'taking', 'care', 'three', 'four', 'number', 'cases', 'alike', 'appear', 'forbid', 'answers', 'dare', 'danger', 'reflection', 'approve', 'becomes', 'learn', 'payment', 'notion', 'knows', 'faint', 'notions', 'authority', 'utter', 'speaker', 'myself', 'reality', 'eager', 'distinguish', 'affected', 'length', 'begin', 'behold', 'wisdom', 'teach', 'goes', 'learning', 'wholly', 'none', 'praise', 'find', 'understand', 'eating', 'bodily', 'strength', 'weaker', 'sir', 'trying', 'wish', 'heard', 'forms', 'government', 'differ', 'ruling', 'different', 'laws', 'democratical', 'tyrannical', 'interests', 'subjects', 'law', 'states', 'principle', 'supposed', 'reasonable', 'conclusion', 'everywhere', 'discover', 'remark', 'used', 'small', 'addition', 'allow', 'proceed', 'admit', 'obey', 'rulers', 'absolutely', 'sometimes', 'liable', 'rightly', 'mistaken', 'contrary', 'doubtless', 'admitted', 'command', 'acknowledged', 'subject', 'commands', 'escape', 'commanded', 'witness', 'while', 'whence', 'follows', 'statement', 'ruler', 'example', 'sick', 'arithmetic', 'respect', 'skill', 'makes', 'implies', 'unless', 'fails', 'cease', 'artists', 'artist', 'mode', 'perfectly', 'lover', 'required', 'repeat', 'questions', 'force', 'prevail', 'future', 'superior', 'inferior', 'popular', 'term', 'play', 'lion', 'ago', 'enough', 'maker', 'captain', 'sailors', 'mere', 'sailor', 'account', 'called', 'distinguished', 'provide', 'aim', 'perfection', 'wants', 'ill', 'require', 'cured', 'ministers', 'origin', 'intention', 'acknowledge', 'quality', 'ear', 'fail', 'hearing', 'requires', 'seeing', 'itself', 'defect', 'its', 'arts', 'themselves', 'having', 'exercise', 'subjectmatter', 'remains', 'pure', 'remaining', 'perfect', 'deal', 'science', 'considers', 'contest', 'patient', 'likewise', 'gave', 'reluctant', 'rule', 'suitable', 'alone', 'everything', 'got', 'completely', 'she', 'leaves', 'taught', 'shepherd', 'sheep', 'fancy', 'day', 'entirely', 'ideas', 'anothers', 'loss', 'lord', 'simple', 'happiness', 'foolish', 'comparison', 'private', 'wherever', 'secondly', 'dealings', 'amount', 'gains', 'observe', 'happens', 'office', 'affairs', 'perhaps', 'suffering', 'getting', 'public', 'moreover', 'hated', 'refusing', 'ways', 'large', 'scale', 'turn', 'highest', 'form', 'happiest', 'miserable', 'tyranny', 'takes', 'detected', 'punished', 'disgrace', 'particular', 'temples', 'thieves', 'citizens', 'slaves', 'names', 'blessed', 'mankind', 'censure', 'sufficient', 'whereas', 'mans', 'ears', 'defend', 'position', 'fairly', 'learned', 'determine', 'eyes', 'passed', 'enquiry', 'live', 'worse', 'knowledge', 'party', 'openly', 'declare', 'free', 'commit', 'proof', 'souls', 'consistent', 'change', 'although', 'began', 'exact', 'again', 'trader', 'market', 'concerned', 'whenever', 'conceived', 'considered', 'lesser', 'offices', 'idea', 'govern', 'reason', 'separate', 'difference', 'merely', 'health', 'special', 'confused', 'inclined', 'least', 'language', 'receives', 'receiving', 'engaged', 'confined', 'assent', 'derived', 'various', 'business', 'paid', 'works', 'governments', 'attend', 'likes', 'work', 'modes', 'penalty', 'intelligible', 'ambition', 'held', 'ambitious', 'laid', 'induced', 'compelled', 'deemed', 'worst', 'conceive', 'help', 'task', 'composed', 'object', 'contention', 'knew', 'choose', 'trouble', 'discussed', 'advantageous', 'serious', 'character', 'prefer', 'deem', 'set', 'speech', 'goods', 'judges', 'unite', 'judge', 'method', 'propose', 'beginning', 'reasons', 'vice', 'charming', 'likely', 'affirm', 'profitable', 'simplicity', 'rate', 'talking', 'profession', 'compared', 'class', 'almost', 'ground', 'principles', 'honourable', 'strong', 'rank', 'through', 'real', 'earnest', 'otherwise', 'creature', 'beyond', 'action', 'claim', 'struggle', 'desire', 'unlike', 'certain', 'strings', 'meats', 'practice', 'ignorance', 'choice', 'extreme', 'women', 'please', 'disposed', 'relative', 'carried', 'enslave', 'enslaved', 'add', 'possessed', 'exist', 'goodness', 'army', 'creates', 'divisions', 'harmony', 'quarrel', 'existing', 'among', 'freemen', 'variance', 'incapable', 'fight', 'become', 'abiding', 'single', 'her', 'assume', 'exercises', 'abode', 'family', 'united', 'unity', 'feast', 'fill', 'lest', 'acting', 'utterly', 'examine', 'asking', 'accomplished', 'explain', 'except', 'ends', 'cut', 'purpose', 'difficulty', 'understanding', 'appointed', 'excellence', 'fulfil', 'blind', 'lost', 'deprived', 'observation', 'apply', 'assigned', 'necessarily', 'misery', 'grown', 'gentle', 'left', 'nevertheless', 'taste', 'brought', 'discovered', 'sought', 'arose', 'passing', 'proved', 'delight', 'third', 'gymnastic', 'physicians', 'classes', 'pursued', 'rewards', 'reputation', 'praised', 'voice', 'sooner', 'aside', 'show', 'practise', 'perplexed', 'superiority', 'maintained', 'satisfactory', 'praising', 'proposal', 'theme', 'converse', 'suffer', 'arise', 'middle', 'honoured', 'worthy', 'resist', 'watch', 'lead', 'proceeding', 'along', 'road', 'following', 'natures', 'path', 'liberty', 'supposing', 'service', 'king', 'earth', 'looking', 'dead', 'ring', 'finger', 'met', 'invisible', 'chosen', 'sent', 'imagined', 'iron', 'houses', 'respects', 'god', 'last', 'hearts', 'becoming', 'appearances', 'judgment', 'effected', 'masters', 'powers', 'within', 'reach', 'false', 'step', 'effect', 'courage', 'aeschylus', 'honours', 'former', 'continue', 'hour', 'reached', 'heavens', 'decision', 'describe', 'description', 'follow', 'mine', 'bound', 'spring', 'counsels', 'bears', 'marriage', 'gets', 'gifts', 'mentioned', 'assist', 'lay', 'bring', 'telling', 'throw', 'noble', 'hesiod', 'strain', 'speaks', 'fame', 'brings', 'forth', 'lying', 'extend', 'fourth', 'generation', 'water', 'living', 'described', 'invention', 'supply', 'prose', 'universal', 'declaring', 'weak', 'extraordinary', 'committed', 'toil', 'pray', 'soothing', 'muses', 'individuals', 'cities', 'pains', 'neglect', 'minds', 'flower', 'walk', 'ascend', 'days', 'pain', 'acquire', 'heavenly', 'philosophers', 'prove', 'appearance', 'devote', 'picture', 'shadow', 'wickedness', 'secret', 'political', 'courts', 'partly', 'persuasion', 'deceived', 'lose', 'praying', 'numerous', 'hears', 'owing', 'cowardice', 'ancient', 'heroes', 'preserved', 'adequately', 'verse', 'essential', 'divine', 'upwards', 'afraid', 'seriously', 'desired', 'degree', 'lips', 'unseen', 'genius', 'verses', 'offspring', 'hero', 'infer', 'defence', 'arrive', 'wits', 'letters', 'larger', 'rare', 'illustration', 'process', 'completed', 'search', 'arises', 'needed', 'exchange', 'creator', 'mother', 'existence', 'demand', 'husbandman', 'shoemaker', 'five', 'labours', 'producing', 'adapted', 'until', 'tools', 'artisans', 'grow', 'husbandmen', 'mention', 'considerable', 'objects', 'society', 'constituted', 'sell', 'artisan', 'production', 'comes', 'calling', 'sit', 'idle', 'wellordered', 'applied', 'servants', 'level', 'plenty', 'labour', 'established', 'wine', 'feed', 'clean', 'beds', 'drinking', 'heads', 'poverty', 'forgotten', 'prepare', 'fire', 'ordinary', 'accustomed', 'possibly', 'healthy', 'constitution', 'objection', 'variety', 'painter', 'motion', 'sorts', 'original', 'multitude', 'colours', 'votaries', 'music', 'kinds', 'animals', 'land', 'ours', 'ourselves', 'limit', 'causes', 'short', 'describing', 'capable', 'attention', 'fitted', 'important', 'warrior', 'earliest', 'years', 'devoted', 'higher', 'duties', 'guardian', 'select', 'brave', 'dog', 'spirit', 'animal', 'observed', 'presence', 'ones', 'full', 'spirited', 'apt', 'everybody', 'dangerous', 'destroy', 'contradiction', 'combination', 'preceded', 'wonder', 'image', 'gifted', 'strangers', 'sees', 'stranger', 'curious', 'recognise', 'face', 'criterion', 'philosophy', 'educated', 'story', 'education', 'trained', 'stories', 'main', 'gymnastics', 'especially', 'fiction', 'mothers', 'fashion', 'model', 'type', 'likeness', 'lies', 'high', 'places', 'possible', 'absolute', 'repeated', 'crimes', 'guardians', 'habit', 'quarrelling', 'relatives', 'unholy', 'narrative', 'zeus', 'virtuous', 'thoughts', 'moment', 'founders', 'cast', 'represented', 'poetry', 'tragic', 'hurtful', 'author', 'assert', 'occur', 'lots', 'hunger', 'strife', 'plants', 'tragedy', 'permitted', 'rules', 'sun', 'bravest', 'external', 'influence', 'circumstances', 'beauty', 'fairest', 'lands', 'daughters', 'deed', 'expression', 'truest', 'matters', 'realities', 'imitation', 'previous', 'falsehood', 'fit', 'madness', 'ridiculous', 'changes', 'dream', 'waking', 'vision', 'grant', 'agamemnon', 'apollo', 'song', 'fair', 'lot', 'raised', 'note', 'sentiments', 'anger', 'teachers', 'disciples', 'courageous', 'slavery', 'terrible', 'control', 'beg', 'warriors', 'tells', 'verily', 'beneath', 'falls', 'moved', 'meet', 'nobler', 'rid', 'sorrow', 'maintain', 'misfortune', 'weeping', 'events', 'heart', 'unworthy', 'shame', 'slight', 'laughter', 'excess', 'worth', 'mortal', 'medicines', 'anybody', 'priest', 'carpenter', 'next', 'temperate', 'chief', 'elements', 'temperance', 'greeks', 'leaders', 'heavy', 'amusement', 'glorious', 'carries', 'die', 'destiny', 'awake', 'breast', 'endure', 'lovers', 'kings', 'counsel', 'unwilling', 'loving', 'feelings', 'believing', 'slave', 'meanness', 'combined', 'compel', 'kindred', 'blood', 'omitted', 'treated', 'naturally', 'aware', 'narration', 'past', 'union', 'teacher', 'break', 'chryses', 'daughter', 'passion', 'leads', 'double', 'entire', 'troy', 'intermediate', 'behalf', 'spoke', 'depart', 'intended', 'imitative', 'imitate', 'parts', 'thither', 'imitators', 'decided', 'imitator', 'nearly', 'imitations', 'smaller', 'imitating', 'early', 'habits', 'woman', 'male', 'female', 'forbidden', 'copy', 'behaviour', 'ashamed', 'wisely', 'study', 'jest', 'sounds', 'instruments', 'rhythm', 'harmonies', 'rhythms', 'mixed', 'manifold', 'gentlemen', 'fall', 'wonderful', 'prescribed', 'soldiers', 'melody', 'obvious', 'determined', 'musical', 'softness', 'unbecoming', 'military', 'sound', 'fortunate', 'notes', 'complex', 'drawn', 'strange', 'harmonious', 'foot', 'severally', 'unable', 'recollection', 'mentioning', 'equal', 'accordance', 'grace', 'absence', 'discord', 'temper', 'ordered', 'intemperance', 'images', 'mass', 'corruption', 'dwell', 'sights', 'region', 'training', 'instrument', 'inner', 'justly', 'space', 'educate', 'magnificence', 'sphere', 'faculties', 'approach', 'belief', 'athletes', 'sister', 'parent', 'diseases', 'disgraceful', 'stage', 'led', 'pride', 'points', 'ingenious', 'asclepius', 'system', 'usual', 'branch', 'occupation', 'spend', 'cure', 'dispute', 'raise', 'excessive', 'trial', 'fathers', 'happen', 'designed', 'tragedians', 'avaricious', 'constitutions', 'join', 'ideal', 'pattern', 'content', 'element', 'increase', 'moderate', 'cowardly', 'waste', 'grows', 'passionate', 'holds', 'intelligence', 'violence', 'conditions', 'philosophical', 'necessary', 'nurture', 'elder', 'loves', 'preserve', 'forget', 'learns', 'forced', 'compels', 'toils', 'bearing', 'foreign', 'auxiliaries', 'royal', 'fed', 'half', 'brass', 'descend', 'oracle', 'destroyed', 'possibility', 'spot', 'tyrants', 'belongs', 'touch', 'saviours', 'ruin', 'regulations', 'painting', 'proportion', 'distinct', 'occurs', 'discovery', 'divided', 'thousand', 'hellenes', 'barbarians', 'impose', 'lower', 'breed', 'directed', 'manners', 'lawless', 'growth', 'neglected', 'standing', 'lasting', 'compare', 'resemble', 'measure', 'legislator', 'ordering', 'remind', 'virtues', 'calls', 'herself', 'white', 'colour', 'proceeds', 'dangers', 'citizen', 'hereafter', 'realized', 'born', 'ages', 'feet', 'cobbler', 'followers', 'conception', 'complete', 'terms', 'satisfaction', 'appetites', 'relation', 'distinction', 'objections', 'forward', 'regarded', 'opposition', 'thirst', 'refer', 'qualified', 'sciences', 'assuming', 'thirsty', 'bids', 'rational', 'irrational', 'ally', 'akin', 'wall', 'attain', 'insatiable', 'explained', 'satisfy', 'division', 'politics', 'essence', 'governors', 'upper', 'raising', 'community', 'period', 'birth', 'scheme', 'risk', 'share', 'pursuits', 'reasoning', 'pursue', 'differences', 'pursuit', 'sex', 'wives', 'faculty', 'companions', 'capacity', 'beneficial', 'wave', 'plan', 'associate', 'orderly', 'prevent', 'fine', 'intellectual', 'darkness', 'seventh', 'democratic', 'tend', 'equals', 'victory', 'prize', 'hellenic', 'hellas', 'disorder', 'enmity', 'actual', 'governed', 'enable', 'truer', 'greatness', 'figure', 'memory', 'inasmuch', 'notbeing', 'corresponding', 'interval', 'extremes', 'eternal', 'shows', 'covetous', 'vain', 'move', 'passes', 'stars', 'followed', 'saved', 'opinions', 'obliged', 'inevitably', 'childhood', 'inherent', 'prisoners', 'generated', 'exile', 'rarely', 'tasted', 'fierce', 'sufficiently', 'students', 'dialectic', 'intellect', 'placed', 'studies', 'tried', 'driven', 'solid', 'aye', 'visible', 'ignoble', 'shadows', 'reflections', 'figures', 'hypotheses', 'geometry', 'square', 'den', 'turning', 'spangled', 'loose', 'exists', 'ten', 'calculation', 'fractions', 'astronomy', 'revolution', 'vulgar', 'chose', 'flatterers', 'oligarchy', 'democracy', 'oligarchical', 'timocracy', '3', 'cubed', '', 'x', '100', 'miserly', 'wealthy', 'drone', 'drones', 'stings', 'unnecessary', 'tyrant', 'protector', 'monster', 'immortal', 'removed', 'bed', 'badness', 'destruction', 'er', 'eighth', 'spindle', 'whorl', 'sixth', 'fifth', 'lachesis']\n",
      "1865\n"
     ]
    }
   ],
   "source": [
    "words = list(w2v.wv.vocab)\n",
    "print(words)\n",
    "print(len(words))"
   ]
  },
  {
   "cell_type": "markdown",
   "metadata": {
    "colab_type": "text",
    "id": "ql2Y17XsIawO"
   },
   "source": [
    "Test thử embedding vector"
   ]
  },
  {
   "cell_type": "code",
   "execution_count": 11,
   "metadata": {
    "colab": {
     "base_uri": "https://localhost:8080/",
     "height": 901
    },
    "colab_type": "code",
    "executionInfo": {
     "elapsed": 1766,
     "status": "ok",
     "timestamp": 1593488718986,
     "user": {
      "displayName": "Nguyễn Duy Hàn Lâm",
      "photoUrl": "",
      "userId": "15262702392422763405"
     },
     "user_tz": -420
    },
    "id": "gUk893LGIt87",
    "outputId": "1f2bf996-8763-4eb8-bcc3-d2dde9edcd3e"
   },
   "outputs": [
    {
     "name": "stdout",
     "output_type": "stream",
     "text": [
      "[-0.12554583 -0.09614732 -0.24014483 -0.23358984  0.03234199 -0.20815745\n",
      "  0.2283216   0.3907561  -0.2849509  -0.10775734 -0.17371055  0.12730576\n",
      "  0.14084218  0.16837376 -0.10379557  0.2557644   0.33811805 -0.00480743\n",
      " -0.11562065 -0.16540447 -0.27960443 -0.02883606 -0.24707553  0.09636175\n",
      " -0.23948666  0.191651    0.1392485  -0.17693052 -0.15321563 -0.02572737\n",
      "  0.13672142 -0.20933236  0.08265859 -0.02569522  0.03651742  0.08160288\n",
      " -0.14277717  0.19648026 -0.13485098 -0.02293013  0.11233423 -0.04066441\n",
      " -0.09618973  0.05846453  0.04099932 -0.12453405 -0.19487348  0.18742752\n",
      "  0.29973906 -0.16740651 -0.14034316  0.19754744  0.20320809  0.13747394\n",
      "  0.07012663  0.3129257  -0.09036045  0.29138312 -0.15509078  0.14232461\n",
      "  0.04207626 -0.142068    0.17226811  0.07232305  0.11267376 -0.20394322\n",
      "  0.3924424   0.02492357 -0.0887638   0.10013945 -0.02911965  0.36493218\n",
      "  0.08919022 -0.1169443  -0.13980636 -0.19487245  0.09352246  0.18118057\n",
      " -0.30907723 -0.27800643  0.0572567  -0.22815467 -0.27384055  0.09317125\n",
      "  0.04282737 -0.28017524 -0.10331365 -0.16848096 -0.11782949 -0.15534647\n",
      " -0.09561617  0.3674367  -0.15202487 -0.1961848   0.30408308 -0.04113576\n",
      " -0.21792492 -0.0194771  -0.35239077  0.2592463   0.00064434  0.3075116\n",
      " -0.18584464 -0.06990804 -0.28271267 -0.068078    0.08737994 -0.07223479\n",
      " -0.02480828 -0.09900504  0.11027373  0.07190879 -0.16763611  0.17257018\n",
      "  0.05061518  0.04627467 -0.23472628 -0.27234834  0.19358933  0.10308795\n",
      " -0.04510858 -0.12095515 -0.23340447  0.0650724  -0.29954064  0.12790076\n",
      " -0.25897226  0.11934603 -0.3140473   0.13537782 -0.33516318 -0.01052584\n",
      " -0.2129636   0.03158671  0.22385293  0.03987186  0.09612281  0.07981259\n",
      "  0.13856706  0.23221992  0.04709073  0.20496349 -0.01505519 -0.04617635\n",
      " -0.09303463  0.2909925  -0.45641252 -0.04695866 -0.05679966  0.15585999\n",
      " -0.04523484 -0.09706952  0.09991127  0.19031589 -0.29063514  0.07221951\n",
      "  0.06401473 -0.20037071  0.0668715   0.06914701 -0.06142087 -0.02774245\n",
      "  0.316187    0.07274301 -0.2871939  -0.022179   -0.01130451  0.47519252\n",
      " -0.26642117  0.03474659 -0.07836825  0.11369768 -0.16468173 -0.00209196\n",
      "  0.14004336  0.09485384  0.18679151 -0.16700725 -0.11058559 -0.17144985\n",
      " -0.18325119 -0.13709101 -0.06518429  0.03662193 -0.0971854   0.25380272\n",
      "  0.40330088 -0.03110349  0.14705111 -0.1322947  -0.03784032 -0.01002473\n",
      "  0.08169801 -0.11930864  0.1491042   0.17022145  0.14635384 -0.06194273\n",
      "  0.14967194 -0.13353261 -0.33908278  0.12541951  0.10885751  0.03152361\n",
      " -0.2681426   0.09418486  0.04886615 -0.0070233  -0.33201253  0.01319474\n",
      "  0.2995905   0.02175606  0.1536705   0.24815233 -0.1170236   0.31473035\n",
      " -0.2168691  -0.10185799  0.32795656 -0.09719624 -0.05122011 -0.00589098\n",
      " -0.00461456 -0.03845856  0.24526866  0.01943087  0.05461053  0.33280122\n",
      " -0.14029074 -0.01113318 -0.30191863  0.12881608  0.15444435 -0.03830783\n",
      " -0.14473616 -0.01083174  0.09443571 -0.52616507 -0.20847857  0.18255682\n",
      " -0.0578372   0.04515731  0.12020209  0.11309563 -0.04578799  0.14469293\n",
      " -0.1160007  -0.1851209   0.2518706   0.13357233 -0.01422688 -0.06762324\n",
      "  0.04731748  0.18136781  0.09173411  0.32025912  0.07140928  0.00633256\n",
      " -0.06085021  0.14571953 -0.15027606  0.09385091 -0.22707674  0.07349877\n",
      " -0.07239383 -0.00718503  0.5035534   0.22854541 -0.32156342  0.01176956\n",
      "  0.22072557 -0.03161364 -0.11809793  0.4672789   0.00365965 -0.05127788\n",
      " -0.34762385  0.3116677  -0.10894579  0.03287011 -0.21685065  0.03453876\n",
      " -0.09299335 -0.18289661  0.0548624   0.16189517  0.15835778 -0.5473139\n",
      " -0.028935   -0.28686622 -0.29044902  0.33000198  0.05980976  0.00615247\n",
      " -0.49311632 -0.25366753 -0.1941633  -0.19402179 -0.15218948  0.03328427]\n"
     ]
    },
    {
     "name": "stderr",
     "output_type": "stream",
     "text": [
      "/usr/local/lib/python3.6/dist-packages/ipykernel_launcher.py:1: DeprecationWarning: Call to deprecated `__getitem__` (Method will be removed in 4.0.0, use self.wv.__getitem__() instead).\n",
      "  \"\"\"Entry point for launching an IPython kernel.\n"
     ]
    }
   ],
   "source": [
    "testEmbeddingVector = w2v['i']\n",
    "print(testEmbeddingVector)"
   ]
  },
  {
   "cell_type": "markdown",
   "metadata": {
    "colab_type": "text",
    "id": "fXFzHov1v7OY"
   },
   "source": [
    "Lưu model xuống file (.bin và .txt)"
   ]
  },
  {
   "cell_type": "code",
   "execution_count": 13,
   "metadata": {
    "colab": {
     "base_uri": "https://localhost:8080/",
     "height": 71
    },
    "colab_type": "code",
    "executionInfo": {
     "elapsed": 1592,
     "status": "ok",
     "timestamp": 1593488831709,
     "user": {
      "displayName": "Nguyễn Duy Hàn Lâm",
      "photoUrl": "",
      "userId": "15262702392422763405"
     },
     "user_tz": -420
    },
    "id": "YquCjFOvwAuz",
    "outputId": "d31a094c-289e-42c3-d22d-8336fa6db17a"
   },
   "outputs": [
    {
     "name": "stderr",
     "output_type": "stream",
     "text": [
      "/usr/local/lib/python3.6/dist-packages/smart_open/smart_open_lib.py:253: UserWarning: This function is deprecated, use smart_open.open instead. See the migration notes for details: https://github.com/RaRe-Technologies/smart_open/blob/master/README.rst#migrating-to-the-new-open-function\n",
      "  'See the migration notes for details: %s' % _MIGRATION_NOTES_URL\n"
     ]
    }
   ],
   "source": [
    "w2v.wv.save_word2vec_format('model.bin')\n",
    "w2v.wv.save_word2vec_format('model.txt', binary=False)"
   ]
  },
  {
   "cell_type": "markdown",
   "metadata": {
    "colab_type": "text",
    "id": "MmXLk8hZ8qfV"
   },
   "source": [
    "**Phần 2: Word-based Modeling**"
   ]
  },
  {
   "cell_type": "markdown",
   "metadata": {
    "colab_type": "text",
    "id": "ne_faUVp3TH7"
   },
   "source": [
    "Tạo văn bản thành các chuỗi gồm 50 từ input và 1 từ output"
   ]
  },
  {
   "cell_type": "code",
   "execution_count": 20,
   "metadata": {
    "colab": {
     "base_uri": "https://localhost:8080/",
     "height": 34
    },
    "colab_type": "code",
    "executionInfo": {
     "elapsed": 1148,
     "status": "ok",
     "timestamp": 1593491697641,
     "user": {
      "displayName": "Nguyễn Duy Hàn Lâm",
      "photoUrl": "",
      "userId": "15262702392422763405"
     },
     "user_tz": -420
    },
    "id": "yMfySzC93bXb",
    "outputId": "7de72936-44b3-4c3d-b4b0-1f51d42efbef"
   },
   "outputs": [
    {
     "name": "stdout",
     "output_type": "stream",
     "text": [
      "Total Sequences: 118633\n"
     ]
    }
   ],
   "source": [
    "# organize into sequences of tokens\n",
    "length = 50 + 1\n",
    "sequences = list()\n",
    "for i in range(length, len(tokens)):\n",
    "\t# select sequence of tokens\n",
    "\tseq = tokens[i-length:i]\n",
    "\t# convert into a line\n",
    "\tline = ' '.join(seq)\n",
    "\t# store\n",
    "\tsequences.append(line)\n",
    "print('Total Sequences: %d' % len(sequences))"
   ]
  },
  {
   "cell_type": "markdown",
   "metadata": {
    "colab_type": "text",
    "id": "yBepg-CO3e7S"
   },
   "source": [
    "Lưu tập chuỗi vào file"
   ]
  },
  {
   "cell_type": "code",
   "execution_count": 21,
   "metadata": {
    "colab": {},
    "colab_type": "code",
    "executionInfo": {
     "elapsed": 1231,
     "status": "ok",
     "timestamp": 1593491700599,
     "user": {
      "displayName": "Nguyễn Duy Hàn Lâm",
      "photoUrl": "",
      "userId": "15262702392422763405"
     },
     "user_tz": -420
    },
    "id": "gwJ_tFNz3hnK"
   },
   "outputs": [],
   "source": [
    "# save tokens to file, one dialog per line\n",
    "def save_doc(lines, filename):\n",
    "\tdata = '\\n'.join(lines)\n",
    "\tfile = open(filename, 'w')\n",
    "\tfile.write(data)\n",
    "\tfile.close()"
   ]
  },
  {
   "cell_type": "code",
   "execution_count": 22,
   "metadata": {
    "colab": {},
    "colab_type": "code",
    "executionInfo": {
     "elapsed": 686,
     "status": "ok",
     "timestamp": 1593491701974,
     "user": {
      "displayName": "Nguyễn Duy Hàn Lâm",
      "photoUrl": "",
      "userId": "15262702392422763405"
     },
     "user_tz": -420
    },
    "id": "GuEvs48p4gPW"
   },
   "outputs": [],
   "source": [
    "# save sequences to file\n",
    "out_filename = 'republic_sequences.txt'\n",
    "save_doc(sequences, out_filename)"
   ]
  },
  {
   "cell_type": "markdown",
   "metadata": {
    "colab_type": "text",
    "id": "_E9EuEtp3wRC"
   },
   "source": [
    "Load lại tập chuỗi"
   ]
  },
  {
   "cell_type": "code",
   "execution_count": 23,
   "metadata": {
    "colab": {
     "base_uri": "https://localhost:8080/",
     "height": 54
    },
    "colab_type": "code",
    "executionInfo": {
     "elapsed": 1296,
     "status": "ok",
     "timestamp": 1593491704355,
     "user": {
      "displayName": "Nguyễn Duy Hàn Lâm",
      "photoUrl": "",
      "userId": "15262702392422763405"
     },
     "user_tz": -420
    },
    "id": "OwTMsV_53zCz",
    "outputId": "3af8b339-1311-4442-93e1-34794e32d6ee"
   },
   "outputs": [
    {
     "name": "stdout",
     "output_type": "stream",
     "text": [
      "['book i i went down yesterday to the piraeus with glaucon the son of ariston that i might offer up my prayers to the goddess bendis the thracian artemis and also because i wanted to see in what manner they would celebrate the festival which was a new thing i was', 'i i went down yesterday to the piraeus with glaucon the son of ariston that i might offer up my prayers to the goddess bendis the thracian artemis and also because i wanted to see in what manner they would celebrate the festival which was a new thing i was delighted']\n"
     ]
    }
   ],
   "source": [
    "# load doc into memory\n",
    "def load_doc(filename):\n",
    "\t# open the file as read only\n",
    "\tfile = open(filename, 'r')\n",
    "\t# read all text\n",
    "\ttext = file.read()\n",
    "\t# close the file\n",
    "\tfile.close()\n",
    "\treturn text\n",
    "\n",
    "# load\n",
    "in_filename = 'republic_sequences.txt'\n",
    "doc = load_doc(in_filename)\n",
    "lines = doc.split('\\n')\n",
    "print(lines[:2])"
   ]
  },
  {
   "cell_type": "markdown",
   "metadata": {
    "colab_type": "text",
    "id": "k2Qzx4wT31DG"
   },
   "source": [
    "Encode tập chuỗi"
   ]
  },
  {
   "cell_type": "code",
   "execution_count": 24,
   "metadata": {
    "colab": {
     "base_uri": "https://localhost:8080/",
     "height": 54
    },
    "colab_type": "code",
    "executionInfo": {
     "elapsed": 7820,
     "status": "ok",
     "timestamp": 1593491715500,
     "user": {
      "displayName": "Nguyễn Duy Hàn Lâm",
      "photoUrl": "",
      "userId": "15262702392422763405"
     },
     "user_tz": -420
    },
    "id": "1FkpL7bs36gV",
    "outputId": "acdad831-1b95-4c3e-c3f4-9c366f2692af"
   },
   "outputs": [
    {
     "name": "stdout",
     "output_type": "stream",
     "text": [
      "[[1046, 11, 11, 1045, 329, 7409, 4, 1, 2873, 35, 213, 1, 261, 3, 2251, 9, 11, 179, 817, 123, 92, 2872, 4, 1, 2249, 7408, 1, 7407, 7406, 2, 75, 120, 11, 1266, 4, 110, 6, 30, 168, 16, 49, 7405, 1, 1609, 13, 57, 8, 549, 151, 11, 57], [11, 11, 1045, 329, 7409, 4, 1, 2873, 35, 213, 1, 261, 3, 2251, 9, 11, 179, 817, 123, 92, 2872, 4, 1, 2249, 7408, 1, 7407, 7406, 2, 75, 120, 11, 1266, 4, 110, 6, 30, 168, 16, 49, 7405, 1, 1609, 13, 57, 8, 549, 151, 11, 57, 1147]]\n"
     ]
    }
   ],
   "source": [
    "# integer encode sequences of words\n",
    "tokenizer = Tokenizer()\n",
    "tokenizer.fit_on_texts(lines)\n",
    "sequences = tokenizer.texts_to_sequences(lines)\n",
    "print(sequences[:2])"
   ]
  },
  {
   "cell_type": "code",
   "execution_count": 25,
   "metadata": {
    "colab": {
     "base_uri": "https://localhost:8080/",
     "height": 34
    },
    "colab_type": "code",
    "executionInfo": {
     "elapsed": 601,
     "status": "ok",
     "timestamp": 1593491717021,
     "user": {
      "displayName": "Nguyễn Duy Hàn Lâm",
      "photoUrl": "",
      "userId": "15262702392422763405"
     },
     "user_tz": -420
    },
    "id": "-vqpjfZxattF",
    "outputId": "5c5d8a99-1089-4d4b-ae66-b96cb6e35a26"
   },
   "outputs": [
    {
     "name": "stdout",
     "output_type": "stream",
     "text": [
      "7410\n"
     ]
    }
   ],
   "source": [
    "# vocabulary size\n",
    "vocab_size = len(tokenizer.word_index) + 1\n",
    "print(vocab_size)"
   ]
  },
  {
   "cell_type": "markdown",
   "metadata": {
    "colab_type": "text",
    "id": "BFeyx4lnejCT"
   },
   "source": [
    "Tạo tập dữ liệu, tập kết quả"
   ]
  },
  {
   "cell_type": "code",
   "execution_count": 26,
   "metadata": {
    "colab": {},
    "colab_type": "code",
    "executionInfo": {
     "elapsed": 3979,
     "status": "ok",
     "timestamp": 1593491730769,
     "user": {
      "displayName": "Nguyễn Duy Hàn Lâm",
      "photoUrl": "",
      "userId": "15262702392422763405"
     },
     "user_tz": -420
    },
    "id": "zJ5dWQQea0fv"
   },
   "outputs": [],
   "source": [
    "# separate into input and output\n",
    "sequences = np.array(sequences)\n",
    "X, y = sequences[:,:-1], sequences[:,-1]\n",
    "y = tf.keras.utils.to_categorical(y, num_classes=vocab_size)\n",
    "seq_length = X.shape[1]"
   ]
  },
  {
   "cell_type": "markdown",
   "metadata": {
    "colab_type": "text",
    "id": "byRAzsmBT3xe"
   },
   "source": [
    "Load lại word2vec model"
   ]
  },
  {
   "cell_type": "code",
   "execution_count": 17,
   "metadata": {
    "colab": {
     "base_uri": "https://localhost:8080/",
     "height": 884
    },
    "colab_type": "code",
    "executionInfo": {
     "elapsed": 1654,
     "status": "ok",
     "timestamp": 1593489665569,
     "user": {
      "displayName": "Nguyễn Duy Hàn Lâm",
      "photoUrl": "",
      "userId": "15262702392422763405"
     },
     "user_tz": -420
    },
    "id": "jqXnVP9DT3E3",
    "outputId": "c3689d0d-5447-4560-c68f-dcb4ab2d1cca"
   },
   "outputs": [
    {
     "name": "stdout",
     "output_type": "stream",
     "text": [
      "Loaded 1866 word vectors.\n",
      "[-0.12554583 -0.09614732 -0.24014483 -0.23358984  0.03234199 -0.20815745\n",
      "  0.2283216   0.3907561  -0.2849509  -0.10775734 -0.17371055  0.12730576\n",
      "  0.14084218  0.16837376 -0.10379557  0.2557644   0.33811805 -0.00480743\n",
      " -0.11562065 -0.16540447 -0.27960443 -0.02883606 -0.24707553  0.09636175\n",
      " -0.23948666  0.191651    0.1392485  -0.17693052 -0.15321563 -0.02572737\n",
      "  0.13672142 -0.20933236  0.08265859 -0.02569522  0.03651742  0.08160288\n",
      " -0.14277717  0.19648026 -0.13485098 -0.02293013  0.11233423 -0.04066441\n",
      " -0.09618973  0.05846453  0.04099932 -0.12453405 -0.19487348  0.18742752\n",
      "  0.29973906 -0.16740651 -0.14034316  0.19754744  0.20320809  0.13747394\n",
      "  0.07012663  0.3129257  -0.09036045  0.29138312 -0.15509078  0.14232461\n",
      "  0.04207626 -0.142068    0.17226811  0.07232305  0.11267376 -0.20394322\n",
      "  0.3924424   0.02492357 -0.0887638   0.10013945 -0.02911965  0.36493218\n",
      "  0.08919022 -0.1169443  -0.13980636 -0.19487245  0.09352246  0.18118057\n",
      " -0.30907723 -0.27800643  0.0572567  -0.22815467 -0.27384055  0.09317125\n",
      "  0.04282737 -0.28017524 -0.10331365 -0.16848096 -0.11782949 -0.15534647\n",
      " -0.09561617  0.3674367  -0.15202487 -0.1961848   0.30408308 -0.04113576\n",
      " -0.21792492 -0.0194771  -0.35239077  0.2592463   0.00064434  0.3075116\n",
      " -0.18584464 -0.06990804 -0.28271267 -0.068078    0.08737994 -0.07223479\n",
      " -0.02480828 -0.09900504  0.11027373  0.07190879 -0.16763611  0.17257018\n",
      "  0.05061518  0.04627467 -0.23472628 -0.27234834  0.19358933  0.10308795\n",
      " -0.04510858 -0.12095515 -0.23340447  0.0650724  -0.29954064  0.12790076\n",
      " -0.25897226  0.11934603 -0.3140473   0.13537782 -0.33516318 -0.01052584\n",
      " -0.2129636   0.03158671  0.22385293  0.03987186  0.09612281  0.07981259\n",
      "  0.13856706  0.23221992  0.04709073  0.20496349 -0.01505519 -0.04617635\n",
      " -0.09303463  0.2909925  -0.45641252 -0.04695866 -0.05679966  0.15585999\n",
      " -0.04523484 -0.09706952  0.09991127  0.19031589 -0.29063514  0.07221951\n",
      "  0.06401473 -0.20037071  0.0668715   0.06914701 -0.06142087 -0.02774245\n",
      "  0.316187    0.07274301 -0.2871939  -0.022179   -0.01130451  0.47519252\n",
      " -0.26642117  0.03474659 -0.07836825  0.11369768 -0.16468173 -0.00209196\n",
      "  0.14004336  0.09485384  0.18679151 -0.16700725 -0.11058559 -0.17144985\n",
      " -0.18325119 -0.13709101 -0.06518429  0.03662193 -0.0971854   0.25380272\n",
      "  0.40330088 -0.03110349  0.14705111 -0.1322947  -0.03784032 -0.01002473\n",
      "  0.08169801 -0.11930864  0.1491042   0.17022145  0.14635384 -0.06194273\n",
      "  0.14967194 -0.13353261 -0.33908278  0.12541951  0.10885751  0.03152361\n",
      " -0.2681426   0.09418486  0.04886615 -0.0070233  -0.33201253  0.01319474\n",
      "  0.2995905   0.02175606  0.1536705   0.24815233 -0.1170236   0.31473035\n",
      " -0.2168691  -0.10185799  0.32795656 -0.09719624 -0.05122011 -0.00589098\n",
      " -0.00461456 -0.03845856  0.24526866  0.01943087  0.05461053  0.33280122\n",
      " -0.14029074 -0.01113318 -0.30191863  0.12881608  0.15444435 -0.03830783\n",
      " -0.14473616 -0.01083174  0.09443571 -0.52616507 -0.20847857  0.18255682\n",
      " -0.0578372   0.04515731  0.12020209  0.11309563 -0.04578799  0.14469293\n",
      " -0.1160007  -0.1851209   0.2518706   0.13357233 -0.01422688 -0.06762324\n",
      "  0.04731748  0.18136781  0.09173411  0.32025912  0.07140928  0.00633256\n",
      " -0.06085021  0.14571953 -0.15027606  0.09385091 -0.22707674  0.07349877\n",
      " -0.07239383 -0.00718503  0.5035534   0.22854541 -0.32156342  0.01176956\n",
      "  0.22072557 -0.03161364 -0.11809793  0.4672789   0.00365965 -0.05127788\n",
      " -0.34762385  0.3116677  -0.10894579  0.03287011 -0.21685065  0.03453876\n",
      " -0.09299335 -0.18289661  0.0548624   0.16189517  0.15835778 -0.5473139\n",
      " -0.028935   -0.28686622 -0.29044902  0.33000198  0.05980976  0.00615247\n",
      " -0.49311632 -0.25366753 -0.1941633  -0.19402179 -0.15218948  0.03328427]\n"
     ]
    }
   ],
   "source": [
    "# load the whole embedding into memory\n",
    "embeddings_index = dict()\n",
    "f = open('model.txt')\n",
    "for line in f:\n",
    "\tvalues = line.split()\n",
    "\tword = values[0]\n",
    "\tcoefs = np.asarray(values[1:], dtype='float32')\n",
    "\tembeddings_index[word] = coefs\n",
    "f.close()\n",
    "print('Loaded %s word vectors.' % len(embeddings_index))\n",
    "print(embeddings_index['i'])"
   ]
  },
  {
   "cell_type": "markdown",
   "metadata": {
    "colab_type": "text",
    "id": "rrhUEm6acSIR"
   },
   "source": [
    "Tạo ma trận embedding cho từng từ"
   ]
  },
  {
   "cell_type": "code",
   "execution_count": 31,
   "metadata": {
    "colab": {
     "base_uri": "https://localhost:8080/",
     "height": 1000
    },
    "colab_type": "code",
    "executionInfo": {
     "elapsed": 999,
     "status": "ok",
     "timestamp": 1593491824698,
     "user": {
      "displayName": "Nguyễn Duy Hàn Lâm",
      "photoUrl": "",
      "userId": "15262702392422763405"
     },
     "user_tz": -420
    },
    "id": "pdczYPb4cl2u",
    "outputId": "c6e70009-96c5-4556-bed1-0e0567cdfbd6"
   },
   "outputs": [
    {
     "name": "stdout",
     "output_type": "stream",
     "text": [
      "[-6.86690435e-02  1.18638732e-01 -1.11163057e-01 -3.20106626e-01\n",
      " -9.44384411e-02  4.41508777e-02 -4.60948087e-02 -2.23450735e-02\n",
      "  3.92696597e-02  1.86080288e-04 -1.98876053e-01  2.84615278e-01\n",
      "  1.34782046e-02 -1.68352336e-01  1.23398930e-01 -6.13694172e-03\n",
      "  1.47370875e-01 -8.94824266e-02  1.93676263e-01  1.41465753e-01\n",
      " -2.69535959e-01 -1.72370136e-01 -1.68973476e-01  8.46276432e-02\n",
      "  3.50768492e-02  2.54508913e-01  8.62718821e-02  1.60829499e-01\n",
      " -2.85549611e-01  6.93101436e-02  2.74658471e-01 -5.47324717e-02\n",
      "  1.48120329e-01  1.17481172e-01  1.59381092e-01  1.51945964e-01\n",
      " -2.23217476e-02  1.25517160e-01  1.02716632e-01 -4.93949391e-02\n",
      "  4.46613580e-02  8.34736004e-02 -2.20984101e-01 -2.11121306e-01\n",
      "  1.88550904e-01 -8.70224684e-02  5.36410324e-02 -4.27534506e-02\n",
      "  1.12197749e-01  4.14350741e-02 -2.24771008e-01  7.38642290e-02\n",
      "  8.36986303e-02  8.38522241e-02  1.73925564e-01  2.31339764e-02\n",
      "  2.22689539e-01 -7.67315626e-02  5.66534698e-02  6.52898010e-03\n",
      "  2.50411093e-01  1.71243280e-01 -1.52070038e-02 -4.04506996e-02\n",
      " -6.01055138e-02 -1.39709905e-01  1.84384212e-01 -7.42282569e-02\n",
      "  1.69671535e-01  1.83843240e-01 -6.58886433e-02  1.25338554e-01\n",
      "  3.38370018e-02 -1.02273300e-01 -2.53521711e-01 -1.01413570e-01\n",
      " -4.64988165e-02  3.25828418e-02 -7.78499916e-02  8.76829475e-02\n",
      "  1.55980512e-01 -5.52428924e-02  1.77428722e-01  9.76734757e-02\n",
      "  1.10432632e-01 -1.15181386e-01 -1.86230633e-02 -1.23682702e-02\n",
      " -2.36044154e-01 -2.21768647e-01  1.63733773e-02 -3.45103182e-02\n",
      "  7.09873140e-02 -2.82439087e-02 -4.85152984e-03 -1.72789663e-01\n",
      " -1.08528659e-01  3.73957902e-02  2.39396229e-01  1.83507264e-01\n",
      "  1.21556809e-02 -1.16868541e-01 -5.97269759e-02 -5.07168919e-02\n",
      " -7.10053253e-04 -2.97991615e-02 -7.48579716e-03  3.31463106e-02\n",
      "  9.71829221e-02  1.69561263e-02 -1.50546178e-01 -1.25490487e-01\n",
      " -1.19935513e-01  1.42064735e-01  3.16719748e-02  6.53071853e-04\n",
      " -2.34262273e-01 -4.17192951e-02  1.86632305e-01  1.46964625e-01\n",
      "  2.45850727e-01 -3.94308753e-02 -7.59423943e-03 -1.36806685e-02\n",
      " -1.11686708e-02  2.43717119e-01  2.86449075e-01 -1.62154883e-01\n",
      "  1.30298957e-01 -1.71301719e-02 -3.42588127e-02 -6.27751052e-02\n",
      "  1.23375028e-01 -8.16619843e-02 -1.89064890e-01 -4.39414680e-02\n",
      "  2.23204136e-01  2.93725580e-02  2.28981122e-01  1.94244966e-01\n",
      "  2.75724065e-02  1.52940556e-01  1.78823978e-01  7.93972835e-02\n",
      "  7.31286872e-03 -4.54853773e-02 -3.42779420e-02 -6.88162893e-02\n",
      " -2.53443062e-01 -1.59129538e-02 -8.54822770e-02 -1.06230360e-02\n",
      "  1.50798425e-01  2.08470896e-01 -2.84144521e-01 -4.92443927e-02\n",
      "  4.51600645e-03 -5.83736300e-02 -1.97909564e-01  5.59013337e-02\n",
      " -3.12646255e-02  7.00324699e-02  4.75932322e-02 -3.14381272e-02\n",
      " -1.77914947e-02  1.93066075e-01  7.78874978e-02  8.26826692e-03\n",
      "  8.33512321e-02 -8.48467350e-02 -7.80608952e-02  3.60785536e-02\n",
      "  2.32310355e-01  1.46166205e-01 -1.09087313e-02  3.64134612e-05\n",
      "  6.18098155e-02  1.20467730e-01 -1.68410763e-01  2.27695275e-02\n",
      " -1.08866543e-01 -2.49224529e-01 -3.56911048e-02  2.01590762e-01\n",
      " -1.18442506e-01  8.43891725e-02  4.85404767e-02 -1.09806443e-02\n",
      " -6.18365668e-02 -1.43169895e-01 -6.23217747e-02  4.26937155e-02\n",
      " -1.49166644e-01 -3.65110576e-01 -9.86134335e-02  1.27007157e-01\n",
      " -2.88251668e-01 -7.61849731e-02 -2.07836144e-02  4.86895405e-02\n",
      " -2.89397798e-02  3.76145691e-02  1.98713019e-02 -1.20871149e-01\n",
      " -5.09461313e-02  3.42941135e-02 -1.65450890e-02  1.15449615e-01\n",
      " -1.73935845e-01 -2.62927078e-02  9.35715716e-03  8.58616903e-02\n",
      " -1.08865358e-01 -1.31446615e-01 -2.99583972e-01  3.64284706e-03\n",
      " -1.30112633e-01 -1.62124500e-01  1.43645540e-01  2.48968136e-02\n",
      " -5.93317412e-02  1.03954315e-01  1.11857243e-01 -8.32043067e-02\n",
      " -2.55161881e-01 -1.35811359e-01 -3.23448867e-01  2.20958665e-01\n",
      "  1.85524542e-02 -3.76073532e-02 -1.97229698e-01  2.75666360e-03\n",
      "  7.93253537e-03 -8.15842077e-02 -2.95886025e-03 -1.58228368e-01\n",
      "  9.68018323e-02  6.27565081e-04  8.40458348e-02  1.72008812e-01\n",
      "  6.14331588e-02  2.11668357e-01  1.94610775e-01  2.59484593e-02\n",
      " -1.07989900e-01 -4.12819050e-02 -1.11877024e-02 -1.99969977e-01\n",
      "  2.50029981e-01 -1.71259150e-01  1.83032066e-01  3.07040978e-02\n",
      " -1.26474589e-01  2.23938346e-01  6.66154455e-03  1.99972868e-01\n",
      "  4.16001976e-02  5.84791452e-02  2.68281978e-02 -2.31212690e-01\n",
      " -1.00474983e-01  2.02360883e-01 -1.02303699e-01 -1.77900881e-01\n",
      "  2.58429721e-02 -9.18735191e-02  2.02065885e-01  5.51835038e-02\n",
      "  1.18521892e-01 -1.56628385e-01  1.30039066e-01 -3.48800570e-01\n",
      " -6.18184470e-02  8.21079686e-02  1.38511226e-01 -6.29027635e-02\n",
      " -1.17940187e-01  7.72384033e-02 -4.63953167e-02  1.83969270e-02\n",
      "  1.49985421e-02 -1.64779291e-01  1.12386961e-02 -2.79467911e-01\n",
      " -1.82453748e-02  8.61359574e-03  8.94430280e-02 -4.04671319e-02\n",
      " -2.29828969e-01  1.50747955e-01  1.27750292e-01 -6.45091804e-03\n",
      "  4.68640924e-02 -1.54892981e-01  1.14394262e-01  1.41218141e-01\n",
      "  1.42271399e-01  7.41802305e-02 -2.15066135e-01 -5.17876484e-02]\n"
     ]
    }
   ],
   "source": [
    "# create a weight matrix for words in training docs\n",
    "embedding_matrix = np.zeros((vocab_size, 300))\n",
    "for word, i in tokenizer.word_index.items():\n",
    "\tembedding_vector = embeddings_index.get(word)\n",
    "\tif embedding_vector is not None:\n",
    "\t\tembedding_matrix[i] = embedding_vector\n",
    "print(embedding_matrix[1])"
   ]
  },
  {
   "cell_type": "markdown",
   "metadata": {
    "colab_type": "text",
    "id": "ucnREQNbepYv"
   },
   "source": [
    "Khởi tạo và cấu hình cho mô hình"
   ]
  },
  {
   "cell_type": "code",
   "execution_count": 32,
   "metadata": {
    "colab": {
     "base_uri": "https://localhost:8080/",
     "height": 340
    },
    "colab_type": "code",
    "executionInfo": {
     "elapsed": 2460,
     "status": "ok",
     "timestamp": 1593492069238,
     "user": {
      "displayName": "Nguyễn Duy Hàn Lâm",
      "photoUrl": "",
      "userId": "15262702392422763405"
     },
     "user_tz": -420
    },
    "id": "AhkRU5dqbtta",
    "outputId": "17520dd8-b5e6-4585-e0e5-637d32379a53"
   },
   "outputs": [
    {
     "name": "stdout",
     "output_type": "stream",
     "text": [
      "Model: \"sequential\"\n",
      "_________________________________________________________________\n",
      "Layer (type)                 Output Shape              Param #   \n",
      "=================================================================\n",
      "embedding (Embedding)        (None, 50, 300)           2223000   \n",
      "_________________________________________________________________\n",
      "lstm (LSTM)                  (None, 50, 100)           160400    \n",
      "_________________________________________________________________\n",
      "lstm_1 (LSTM)                (None, 100)               80400     \n",
      "_________________________________________________________________\n",
      "dense (Dense)                (None, 100)               10100     \n",
      "_________________________________________________________________\n",
      "dense_1 (Dense)              (None, 7410)              748410    \n",
      "=================================================================\n",
      "Total params: 3,222,310\n",
      "Trainable params: 999,310\n",
      "Non-trainable params: 2,223,000\n",
      "_________________________________________________________________\n",
      "None\n"
     ]
    }
   ],
   "source": [
    "# define model\n",
    "model = Sequential()\n",
    "model.add(Embedding(vocab_size, 300, weights=[embedding_matrix], input_length=seq_length, trainable=False))\n",
    "model.add(LSTM(100, return_sequences=True))\n",
    "model.add(LSTM(100))\n",
    "model.add(Dense(100, activation='relu'))\n",
    "model.add(Dense(vocab_size, activation='softmax'))\n",
    "print(model.summary())"
   ]
  },
  {
   "cell_type": "markdown",
   "metadata": {
    "colab_type": "text",
    "id": "TcTb0Jt-euVQ"
   },
   "source": [
    "Huấn luyện mô hình"
   ]
  },
  {
   "cell_type": "code",
   "execution_count": null,
   "metadata": {
    "colab": {
     "base_uri": "https://localhost:8080/",
     "height": 1000
    },
    "colab_type": "code",
    "id": "RluuYqZyeAfR",
    "outputId": "7a4838ee-33a5-40af-8257-dd7e3dc1a5a8"
   },
   "outputs": [
    {
     "name": "stdout",
     "output_type": "stream",
     "text": [
      "Epoch 1/100\n",
      "927/927 [==============================] - 276s 297ms/step - loss: 6.1163 - accuracy: 0.0776\n",
      "Epoch 2/100\n",
      "927/927 [==============================] - 273s 294ms/step - loss: 5.6390 - accuracy: 0.1153\n",
      "Epoch 3/100\n",
      "927/927 [==============================] - 272s 294ms/step - loss: 5.3760 - accuracy: 0.1404\n",
      "Epoch 4/100\n",
      "927/927 [==============================] - 273s 294ms/step - loss: 5.2056 - accuracy: 0.1532\n",
      "Epoch 5/100\n",
      "927/927 [==============================] - 269s 290ms/step - loss: 5.0816 - accuracy: 0.1593\n",
      "Epoch 6/100\n",
      "927/927 [==============================] - 272s 293ms/step - loss: 4.9781 - accuracy: 0.1652\n",
      "Epoch 7/100\n",
      "927/927 [==============================] - 271s 292ms/step - loss: 4.8809 - accuracy: 0.1714\n",
      "Epoch 8/100\n",
      "927/927 [==============================] - 274s 296ms/step - loss: 4.7936 - accuracy: 0.1745\n",
      "Epoch 9/100\n",
      "927/927 [==============================] - 271s 293ms/step - loss: 4.7091 - accuracy: 0.1785\n",
      "Epoch 10/100\n",
      "927/927 [==============================] - 276s 297ms/step - loss: 4.6292 - accuracy: 0.1818\n",
      "Epoch 11/100\n",
      "927/927 [==============================] - 271s 293ms/step - loss: 4.5538 - accuracy: 0.1843\n",
      "Epoch 12/100\n",
      "927/927 [==============================] - 272s 293ms/step - loss: 4.4787 - accuracy: 0.1873\n",
      "Epoch 13/100\n",
      "927/927 [==============================] - 276s 298ms/step - loss: 4.4071 - accuracy: 0.1899\n",
      "Epoch 14/100\n",
      "927/927 [==============================] - 271s 293ms/step - loss: 4.3388 - accuracy: 0.1929\n",
      "Epoch 15/100\n",
      "927/927 [==============================] - 270s 292ms/step - loss: 4.2727 - accuracy: 0.1947\n",
      "Epoch 16/100\n",
      "927/927 [==============================] - 270s 291ms/step - loss: 4.2114 - accuracy: 0.1983\n",
      "Epoch 17/100\n",
      "927/927 [==============================] - 268s 290ms/step - loss: 4.1541 - accuracy: 0.2016\n",
      "Epoch 18/100\n",
      "927/927 [==============================] - 268s 289ms/step - loss: 4.0994 - accuracy: 0.2052\n",
      "Epoch 19/100\n",
      "927/927 [==============================] - 268s 289ms/step - loss: 4.0493 - accuracy: 0.2097\n",
      "Epoch 20/100\n",
      "927/927 [==============================] - 267s 288ms/step - loss: 4.0043 - accuracy: 0.2137\n",
      "Epoch 21/100\n",
      "927/927 [==============================] - 271s 293ms/step - loss: 3.9611 - accuracy: 0.2172\n",
      "Epoch 22/100\n",
      "927/927 [==============================] - 269s 290ms/step - loss: 3.9192 - accuracy: 0.2215\n",
      "Epoch 23/100\n",
      "927/927 [==============================] - 269s 290ms/step - loss: 3.8804 - accuracy: 0.2260\n",
      "Epoch 24/100\n",
      "927/927 [==============================] - 272s 293ms/step - loss: 3.8447 - accuracy: 0.2295\n",
      "Epoch 25/100\n",
      "927/927 [==============================] - 269s 290ms/step - loss: 3.8262 - accuracy: 0.2315\n",
      "Epoch 26/100\n",
      "927/927 [==============================] - 272s 293ms/step - loss: 3.7909 - accuracy: 0.2350\n",
      "Epoch 27/100\n",
      "927/927 [==============================] - 269s 290ms/step - loss: 3.7514 - accuracy: 0.2406\n",
      "Epoch 28/100\n",
      "927/927 [==============================] - 271s 293ms/step - loss: 3.7185 - accuracy: 0.2422\n",
      "Epoch 29/100\n",
      "927/927 [==============================] - 268s 290ms/step - loss: 3.6904 - accuracy: 0.2461\n",
      "Epoch 30/100\n",
      "927/927 [==============================] - 272s 293ms/step - loss: 3.6670 - accuracy: 0.2487\n",
      "Epoch 31/100\n",
      "927/927 [==============================] - 272s 293ms/step - loss: 3.6396 - accuracy: 0.2523\n",
      "Epoch 32/100\n",
      "927/927 [==============================] - 272s 293ms/step - loss: 3.6446 - accuracy: 0.2535\n",
      "Epoch 33/100\n",
      "927/927 [==============================] - 275s 297ms/step - loss: 3.5845 - accuracy: 0.2581\n",
      "Epoch 34/100\n",
      "927/927 [==============================] - 272s 294ms/step - loss: 3.5560 - accuracy: 0.2614\n",
      "Epoch 35/100\n",
      "927/927 [==============================] - 273s 295ms/step - loss: 3.5294 - accuracy: 0.2655\n",
      "Epoch 36/100\n",
      "927/927 [==============================] - 270s 291ms/step - loss: 3.5224 - accuracy: 0.2668\n",
      "Epoch 37/100\n",
      "927/927 [==============================] - 272s 293ms/step - loss: 3.5223 - accuracy: 0.2680\n",
      "Epoch 38/100\n",
      "927/927 [==============================] - 269s 290ms/step - loss: 3.4684 - accuracy: 0.2736\n",
      "Epoch 39/100\n",
      "927/927 [==============================] - 268s 290ms/step - loss: 3.4366 - accuracy: 0.2764\n",
      "Epoch 40/100\n",
      "927/927 [==============================] - 268s 289ms/step - loss: 3.4075 - accuracy: 0.2802\n",
      "Epoch 41/100\n",
      "927/927 [==============================] - 269s 290ms/step - loss: 3.4390 - accuracy: 0.2782\n",
      "Epoch 42/100\n",
      "927/927 [==============================] - 269s 290ms/step - loss: 3.7931 - accuracy: 0.2489\n",
      "Epoch 43/100\n",
      "927/927 [==============================] - 269s 290ms/step - loss: 3.6509 - accuracy: 0.2590\n",
      "Epoch 44/100\n",
      "927/927 [==============================] - 269s 290ms/step - loss: 3.5174 - accuracy: 0.2721\n",
      "Epoch 45/100\n",
      "927/927 [==============================] - 269s 290ms/step - loss: 3.4738 - accuracy: 0.2759\n",
      "Epoch 46/100\n",
      "122/927 [==>...........................] - ETA: 3:50 - loss: 3.3747 - accuracy: 0.2916"
     ]
    }
   ],
   "source": [
    "# compile model\n",
    "model.compile(loss='categorical_crossentropy', optimizer='adam', metrics=['accuracy'])\n",
    "# fit model\n",
    "model.fit(X, y, batch_size=128, epochs=100)"
   ]
  }
 ],
 "metadata": {
  "colab": {
   "authorship_tag": "ABX9TyMSvNxCnA8aKbQoDsRG7UXE",
   "name": "sg_republic.ipynb",
   "provenance": []
  },
  "kernelspec": {
   "display_name": "Python 3",
   "language": "python",
   "name": "python3"
  },
  "language_info": {
   "codemirror_mode": {
    "name": "ipython",
    "version": 3
   },
   "file_extension": ".py",
   "mimetype": "text/x-python",
   "name": "python",
   "nbconvert_exporter": "python",
   "pygments_lexer": "ipython3",
   "version": "3.8.1"
  }
 },
 "nbformat": 4,
 "nbformat_minor": 1
}
